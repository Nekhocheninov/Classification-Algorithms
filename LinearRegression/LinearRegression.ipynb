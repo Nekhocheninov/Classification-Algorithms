{
  "nbformat": 4,
  "nbformat_minor": 0,
  "metadata": {
    "colab": {
      "name": "LinearRegression.ipynb",
      "provenance": [],
      "collapsed_sections": []
    },
    "kernelspec": {
      "name": "python3",
      "display_name": "Python 3"
    },
    "language_info": {
      "name": "python"
    }
  },
  "cells": [
    {
      "cell_type": "code",
      "metadata": {
        "id": "q0xK7PfVXPlU",
        "colab": {
          "base_uri": "https://localhost:8080/",
          "height": 353
        },
        "outputId": "6322efa4-e4d6-4b35-ff7d-dd244ccd3252"
      },
      "source": [
        "import pandas as pd\n",
        "import matplotlib.pyplot as plt\n",
        "from sklearn.linear_model import LinearRegression\n",
        "\n",
        "ds = pd.read_csv('https://raw.githubusercontent.com/sdukshis/ml-intro/master/datasets/Davis.csv', index_col=0).dropna()\n",
        "\n",
        "X = ds['height'].values.reshape(-1, 1)\n",
        "Y = ds['weight'].values.reshape(-1, 1)\n",
        "\n",
        "reg = LinearRegression().fit(X, Y)\n",
        "\n",
        "Y_p = reg.predict(X)\n",
        "\n",
        "print('Coefficients: \\n', reg.intercept_, reg.coef_)\n",
        "print('Coefficient of determination: %.2f' % reg.score(X,Y))\n",
        "\n",
        "plt.scatter(X, Y,  color='black')\n",
        "plt.plot(X, Y_p, color='blue', linewidth=1)\n",
        "\n",
        "plt.xticks(())\n",
        "plt.yticks(())\n",
        "\n",
        "plt.show()\n",
        "\n",
        "X = ds[['sex', 'height', 'repwt']].replace(['F','M'],[0, 1]).values.reshape(-1, 3)\n",
        "\n",
        "reg = LinearRegression().fit(X, Y)\n",
        "\n",
        "Y_p = reg.predict(X)\n",
        "\n",
        "print('Coefficients: \\n', reg.intercept_, reg.coef_)\n",
        "print('Coefficient of determination: %.2f' % reg.score(X,Y))"
      ],
      "execution_count": null,
      "outputs": [
        {
          "output_type": "stream",
          "name": "stdout",
          "text": [
            "Coefficients: \n",
            " [-131.0423227] [[1.15218754]]\n",
            "Coefficient of determination: 0.59\n"
          ]
        },
        {
          "output_type": "display_data",
          "data": {
            "image/png": "[encoded data removed]",
            "text/plain": [
              "<Figure size 432x288 with 1 Axes>"
            ]
          },
          "metadata": {}
        },
        {
          "output_type": "stream",
          "name": "stdout",
          "text": [
            "Coefficients: \n",
            " [2.16382275] [[-5.27157052e-01  1.83931216e-04  9.70549310e-01]]\n",
            "Coefficient of determination: 0.97\n"
          ]
        }
      ]
    }
  ]
}